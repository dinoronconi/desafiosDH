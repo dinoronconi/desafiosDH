{
 "cells": [
  {
   "cell_type": "markdown",
   "metadata": {
    "colab_type": "text",
    "id": "YPMwdw96zA4O"
   },
   "source": [
    "# Desafío 1\n",
    "## Equipo Lucia Sonnet - Micaela Kim - Dino Ronconi"
   ]
  },
  {
   "cell_type": "code",
   "execution_count": null,
   "metadata": {
    "colab": {
     "autoexec": {
      "startup": false,
      "wait_interval": 0
     }
    },
    "colab_type": "code",
    "id": "_WVOzY8wzOQc"
   },
   "outputs": [],
   "source": []
  },
  {
   "cell_type": "code",
   "execution_count": 1,
   "metadata": {},
   "outputs": [],
   "source": [
    "import numpy as np\n",
    "import pandas as pd\n",
    "import geopandas\n",
    "import shapely.wkt\n",
    "from shapely.geometry import Point\n",
    "import rtree\n",
    "pd.options.display.max_rows = 10\n",
    "import matplotlib.pyplot as plt\n",
    "%matplotlib inline\n",
    "import folium"
   ]
  },
  {
   "cell_type": "markdown",
   "metadata": {},
   "source": [
    "### Cargamos en un dataframe los datos para el análisis, desde un archivo csv"
   ]
  },
  {
   "cell_type": "code",
   "execution_count": 2,
   "metadata": {},
   "outputs": [],
   "source": [
    "properatti = pd.read_csv(\"properatti.csv\")"
   ]
  },
  {
   "cell_type": "markdown",
   "metadata": {},
   "source": [
    "## Exploración del dataframe\n",
    "### Un primer vistazo a los datos"
   ]
  },
  {
   "cell_type": "code",
   "execution_count": 3,
   "metadata": {},
   "outputs": [
    {
     "data": {
      "text/html": [
       "<div>\n",
       "<style scoped>\n",
       "    .dataframe tbody tr th:only-of-type {\n",
       "        vertical-align: middle;\n",
       "    }\n",
       "\n",
       "    .dataframe tbody tr th {\n",
       "        vertical-align: top;\n",
       "    }\n",
       "\n",
       "    .dataframe thead th {\n",
       "        text-align: right;\n",
       "    }\n",
       "</style>\n",
       "<table border=\"1\" class=\"dataframe\">\n",
       "  <thead>\n",
       "    <tr style=\"text-align: right;\">\n",
       "      <th></th>\n",
       "      <th>Unnamed: 0</th>\n",
       "      <th>operation</th>\n",
       "      <th>property_type</th>\n",
       "      <th>place_name</th>\n",
       "      <th>place_with_parent_names</th>\n",
       "      <th>country_name</th>\n",
       "      <th>state_name</th>\n",
       "      <th>geonames_id</th>\n",
       "      <th>lat-lon</th>\n",
       "      <th>lat</th>\n",
       "      <th>...</th>\n",
       "      <th>surface_covered_in_m2</th>\n",
       "      <th>price_usd_per_m2</th>\n",
       "      <th>price_per_m2</th>\n",
       "      <th>floor</th>\n",
       "      <th>rooms</th>\n",
       "      <th>expenses</th>\n",
       "      <th>properati_url</th>\n",
       "      <th>description</th>\n",
       "      <th>title</th>\n",
       "      <th>image_thumbnail</th>\n",
       "    </tr>\n",
       "  </thead>\n",
       "  <tbody>\n",
       "    <tr>\n",
       "      <th>0</th>\n",
       "      <td>0</td>\n",
       "      <td>sell</td>\n",
       "      <td>PH</td>\n",
       "      <td>Mataderos</td>\n",
       "      <td>|Argentina|Capital Federal|Mataderos|</td>\n",
       "      <td>Argentina</td>\n",
       "      <td>Capital Federal</td>\n",
       "      <td>3430787.0</td>\n",
       "      <td>-34.6618237,-58.5088387</td>\n",
       "      <td>-34.661824</td>\n",
       "      <td>...</td>\n",
       "      <td>40.0</td>\n",
       "      <td>1127.272727</td>\n",
       "      <td>1550.0</td>\n",
       "      <td>NaN</td>\n",
       "      <td>NaN</td>\n",
       "      <td>NaN</td>\n",
       "      <td>http://www.properati.com.ar/15bo8_venta_ph_mat...</td>\n",
       "      <td>2 AMBIENTES TIPO CASA PLANTA BAJA POR PASILLO,...</td>\n",
       "      <td>2 AMB TIPO CASA SIN EXPENSAS EN PB</td>\n",
       "      <td>https://thumbs4.properati.com/8/BluUYiHJLhgIIK...</td>\n",
       "    </tr>\n",
       "    <tr>\n",
       "      <th>1</th>\n",
       "      <td>1</td>\n",
       "      <td>sell</td>\n",
       "      <td>apartment</td>\n",
       "      <td>La Plata</td>\n",
       "      <td>|Argentina|Bs.As. G.B.A. Zona Sur|La Plata|</td>\n",
       "      <td>Argentina</td>\n",
       "      <td>Bs.As. G.B.A. Zona Sur</td>\n",
       "      <td>3432039.0</td>\n",
       "      <td>-34.9038831,-57.9643295</td>\n",
       "      <td>-34.903883</td>\n",
       "      <td>...</td>\n",
       "      <td>NaN</td>\n",
       "      <td>NaN</td>\n",
       "      <td>NaN</td>\n",
       "      <td>NaN</td>\n",
       "      <td>NaN</td>\n",
       "      <td>NaN</td>\n",
       "      <td>http://www.properati.com.ar/15bob_venta_depart...</td>\n",
       "      <td>Venta de departamento en décimo piso al frente...</td>\n",
       "      <td>VENTA Depto 2 dorm. a estrenar 7 e/ 36 y 37   ...</td>\n",
       "      <td>https://thumbs4.properati.com/7/ikpVBu2ztHA7jv...</td>\n",
       "    </tr>\n",
       "  </tbody>\n",
       "</table>\n",
       "<p>2 rows × 26 columns</p>\n",
       "</div>"
      ],
      "text/plain": [
       "   Unnamed: 0 operation property_type place_name  \\\n",
       "0           0      sell            PH  Mataderos   \n",
       "1           1      sell     apartment   La Plata   \n",
       "\n",
       "                       place_with_parent_names country_name  \\\n",
       "0        |Argentina|Capital Federal|Mataderos|    Argentina   \n",
       "1  |Argentina|Bs.As. G.B.A. Zona Sur|La Plata|    Argentina   \n",
       "\n",
       "               state_name  geonames_id                  lat-lon        lat  \\\n",
       "0         Capital Federal    3430787.0  -34.6618237,-58.5088387 -34.661824   \n",
       "1  Bs.As. G.B.A. Zona Sur    3432039.0  -34.9038831,-57.9643295 -34.903883   \n",
       "\n",
       "                         ...                          surface_covered_in_m2  \\\n",
       "0                        ...                                           40.0   \n",
       "1                        ...                                            NaN   \n",
       "\n",
       "   price_usd_per_m2 price_per_m2  floor  rooms  expenses  \\\n",
       "0       1127.272727       1550.0    NaN    NaN       NaN   \n",
       "1               NaN          NaN    NaN    NaN       NaN   \n",
       "\n",
       "                                       properati_url  \\\n",
       "0  http://www.properati.com.ar/15bo8_venta_ph_mat...   \n",
       "1  http://www.properati.com.ar/15bob_venta_depart...   \n",
       "\n",
       "                                         description  \\\n",
       "0  2 AMBIENTES TIPO CASA PLANTA BAJA POR PASILLO,...   \n",
       "1  Venta de departamento en décimo piso al frente...   \n",
       "\n",
       "                                               title  \\\n",
       "0                 2 AMB TIPO CASA SIN EXPENSAS EN PB   \n",
       "1  VENTA Depto 2 dorm. a estrenar 7 e/ 36 y 37   ...   \n",
       "\n",
       "                                     image_thumbnail  \n",
       "0  https://thumbs4.properati.com/8/BluUYiHJLhgIIK...  \n",
       "1  https://thumbs4.properati.com/7/ikpVBu2ztHA7jv...  \n",
       "\n",
       "[2 rows x 26 columns]"
      ]
     },
     "execution_count": 3,
     "metadata": {},
     "output_type": "execute_result"
    }
   ],
   "source": [
    "properatti.head(2)"
   ]
  },
  {
   "cell_type": "markdown",
   "metadata": {},
   "source": [
    "### Borramos dos columnas que consideramos inútiles para estos análisis"
   ]
  },
  {
   "cell_type": "code",
   "execution_count": 4,
   "metadata": {},
   "outputs": [],
   "source": [
    "properatti.drop(['image_thumbnail', 'properati_url'], axis=1, inplace=True)"
   ]
  },
  {
   "cell_type": "markdown",
   "metadata": {},
   "source": [
    "### Cambiamos los identificadores de las columnas por textos más intuitivos"
   ]
  },
  {
   "cell_type": "code",
   "execution_count": 5,
   "metadata": {},
   "outputs": [],
   "source": [
    " properatti.columns = ['id', 'tipo_oper', 'Tipo_prop', 'barrio',\n",
    "       'lugar_completo', 'pais', 'provincia', 'geonames_id',\n",
    "       'lat-lon', 'LAT', 'LNG', 'precio', 'moneda',\n",
    "       'precio_moneda_local', 'precio_dolares', 'superficie',\n",
    "       'superficie_cubierta', 'precio_x_m2_dolares', 'precio_x_m2','pisos',\n",
    "       'ambientes', 'expensas', 'descripcion', 'titulo']"
   ]
  },
  {
   "cell_type": "markdown",
   "metadata": {},
   "source": [
    "### Vemos las columnas con valores nulos"
   ]
  },
  {
   "cell_type": "code",
   "execution_count": 6,
   "metadata": {},
   "outputs": [
    {
     "data": {
      "text/plain": [
       "id                     0\n",
       "tipo_oper              0\n",
       "Tipo_prop              0\n",
       "barrio                23\n",
       "lugar_completo         0\n",
       "                   ...  \n",
       "pisos             113321\n",
       "ambientes          73830\n",
       "expensas          106958\n",
       "descripcion            2\n",
       "titulo                 0\n",
       "Length: 24, dtype: int64"
      ]
     },
     "execution_count": 6,
     "metadata": {},
     "output_type": "execute_result"
    }
   ],
   "source": [
    "properatti.isna().sum()"
   ]
  },
  {
   "cell_type": "markdown",
   "metadata": {},
   "source": [
    "### Vemos los distintos tipos de propiedad"
   ]
  },
  {
   "cell_type": "code",
   "execution_count": 7,
   "metadata": {},
   "outputs": [
    {
     "data": {
      "text/plain": [
       "array(['PH', 'apartment', 'house', 'store'], dtype=object)"
      ]
     },
     "execution_count": 7,
     "metadata": {},
     "output_type": "execute_result"
    }
   ],
   "source": [
    "properatti[\"Tipo_prop\"].unique()"
   ]
  },
  {
   "cell_type": "markdown",
   "metadata": {},
   "source": [
    "### Chequeamos que todos los registros tengan el barrio"
   ]
  },
  {
   "cell_type": "code",
   "execution_count": 8,
   "metadata": {},
   "outputs": [
    {
     "data": {
      "text/html": [
       "<div>\n",
       "<style scoped>\n",
       "    .dataframe tbody tr th:only-of-type {\n",
       "        vertical-align: middle;\n",
       "    }\n",
       "\n",
       "    .dataframe tbody tr th {\n",
       "        vertical-align: top;\n",
       "    }\n",
       "\n",
       "    .dataframe thead th {\n",
       "        text-align: right;\n",
       "    }\n",
       "</style>\n",
       "<table border=\"1\" class=\"dataframe\">\n",
       "  <thead>\n",
       "    <tr style=\"text-align: right;\">\n",
       "      <th></th>\n",
       "      <th>id</th>\n",
       "      <th>tipo_oper</th>\n",
       "      <th>Tipo_prop</th>\n",
       "      <th>barrio</th>\n",
       "      <th>lugar_completo</th>\n",
       "      <th>pais</th>\n",
       "      <th>provincia</th>\n",
       "      <th>geonames_id</th>\n",
       "      <th>lat-lon</th>\n",
       "      <th>LAT</th>\n",
       "      <th>...</th>\n",
       "      <th>precio_dolares</th>\n",
       "      <th>superficie</th>\n",
       "      <th>superficie_cubierta</th>\n",
       "      <th>precio_x_m2_dolares</th>\n",
       "      <th>precio_x_m2</th>\n",
       "      <th>pisos</th>\n",
       "      <th>ambientes</th>\n",
       "      <th>expensas</th>\n",
       "      <th>descripcion</th>\n",
       "      <th>titulo</th>\n",
       "    </tr>\n",
       "  </thead>\n",
       "  <tbody>\n",
       "    <tr>\n",
       "      <th>6489</th>\n",
       "      <td>6489</td>\n",
       "      <td>sell</td>\n",
       "      <td>house</td>\n",
       "      <td>NaN</td>\n",
       "      <td>|Argentina|Bs.As. G.B.A. Zona Norte|Tigre||</td>\n",
       "      <td>Argentina</td>\n",
       "      <td>Bs.As. G.B.A. Zona Norte</td>\n",
       "      <td>NaN</td>\n",
       "      <td>-34.4008968545,-58.63809847</td>\n",
       "      <td>-34.400897</td>\n",
       "      <td>...</td>\n",
       "      <td>650000.0</td>\n",
       "      <td>240.0</td>\n",
       "      <td>240.0</td>\n",
       "      <td>2708.333333</td>\n",
       "      <td>2708.333333</td>\n",
       "      <td>NaN</td>\n",
       "      <td>NaN</td>\n",
       "      <td>NaN</td>\n",
       "      <td>Espectacular casa moderna de una planta, con a...</td>\n",
       "      <td>Venta de casa en Santa María de Tigre</td>\n",
       "    </tr>\n",
       "    <tr>\n",
       "      <th>10201</th>\n",
       "      <td>10201</td>\n",
       "      <td>sell</td>\n",
       "      <td>house</td>\n",
       "      <td>NaN</td>\n",
       "      <td>|Argentina|Bs.As. G.B.A. Zona Norte|Tigre||</td>\n",
       "      <td>Argentina</td>\n",
       "      <td>Bs.As. G.B.A. Zona Norte</td>\n",
       "      <td>NaN</td>\n",
       "      <td>-34.400704,-58.638067</td>\n",
       "      <td>-34.400704</td>\n",
       "      <td>...</td>\n",
       "      <td>535000.0</td>\n",
       "      <td>NaN</td>\n",
       "      <td>300.0</td>\n",
       "      <td>NaN</td>\n",
       "      <td>1783.333333</td>\n",
       "      <td>NaN</td>\n",
       "      <td>5.0</td>\n",
       "      <td>NaN</td>\n",
       "      <td>Corredor Responsable: SABRINA COCCONI - CSI 62...</td>\n",
       "      <td>VENTA CASA SANTA MARÍA DE TIGRE COUNTRY BARRIO...</td>\n",
       "    </tr>\n",
       "    <tr>\n",
       "      <th>11451</th>\n",
       "      <td>11451</td>\n",
       "      <td>sell</td>\n",
       "      <td>house</td>\n",
       "      <td>NaN</td>\n",
       "      <td>|Argentina|Bs.As. G.B.A. Zona Norte|Tigre||</td>\n",
       "      <td>Argentina</td>\n",
       "      <td>Bs.As. G.B.A. Zona Norte</td>\n",
       "      <td>NaN</td>\n",
       "      <td>-34.4026880384,-58.6262613379</td>\n",
       "      <td>-34.402688</td>\n",
       "      <td>...</td>\n",
       "      <td>550000.0</td>\n",
       "      <td>2170.0</td>\n",
       "      <td>270.0</td>\n",
       "      <td>253.456221</td>\n",
       "      <td>2037.037037</td>\n",
       "      <td>NaN</td>\n",
       "      <td>NaN</td>\n",
       "      <td>NaN</td>\n",
       "      <td>MUY LINDA CASA EN EXCELENTE UBICACION!! Superf...</td>\n",
       "      <td>SANTA MARIA DE TIGRE IMPECABLE</td>\n",
       "    </tr>\n",
       "  </tbody>\n",
       "</table>\n",
       "<p>3 rows × 24 columns</p>\n",
       "</div>"
      ],
      "text/plain": [
       "          id tipo_oper Tipo_prop barrio  \\\n",
       "6489    6489      sell     house    NaN   \n",
       "10201  10201      sell     house    NaN   \n",
       "11451  11451      sell     house    NaN   \n",
       "\n",
       "                                    lugar_completo       pais  \\\n",
       "6489   |Argentina|Bs.As. G.B.A. Zona Norte|Tigre||  Argentina   \n",
       "10201  |Argentina|Bs.As. G.B.A. Zona Norte|Tigre||  Argentina   \n",
       "11451  |Argentina|Bs.As. G.B.A. Zona Norte|Tigre||  Argentina   \n",
       "\n",
       "                      provincia  geonames_id                        lat-lon  \\\n",
       "6489   Bs.As. G.B.A. Zona Norte          NaN    -34.4008968545,-58.63809847   \n",
       "10201  Bs.As. G.B.A. Zona Norte          NaN          -34.400704,-58.638067   \n",
       "11451  Bs.As. G.B.A. Zona Norte          NaN  -34.4026880384,-58.6262613379   \n",
       "\n",
       "             LAT                        ...                          \\\n",
       "6489  -34.400897                        ...                           \n",
       "10201 -34.400704                        ...                           \n",
       "11451 -34.402688                        ...                           \n",
       "\n",
       "       precio_dolares  superficie superficie_cubierta  precio_x_m2_dolares  \\\n",
       "6489         650000.0       240.0               240.0          2708.333333   \n",
       "10201        535000.0         NaN               300.0                  NaN   \n",
       "11451        550000.0      2170.0               270.0           253.456221   \n",
       "\n",
       "       precio_x_m2  pisos  ambientes  expensas  \\\n",
       "6489   2708.333333    NaN        NaN       NaN   \n",
       "10201  1783.333333    NaN        5.0       NaN   \n",
       "11451  2037.037037    NaN        NaN       NaN   \n",
       "\n",
       "                                             descripcion  \\\n",
       "6489   Espectacular casa moderna de una planta, con a...   \n",
       "10201  Corredor Responsable: SABRINA COCCONI - CSI 62...   \n",
       "11451  MUY LINDA CASA EN EXCELENTE UBICACION!! Superf...   \n",
       "\n",
       "                                                  titulo  \n",
       "6489               Venta de casa en Santa María de Tigre  \n",
       "10201  VENTA CASA SANTA MARÍA DE TIGRE COUNTRY BARRIO...  \n",
       "11451                     SANTA MARIA DE TIGRE IMPECABLE  \n",
       "\n",
       "[3 rows x 24 columns]"
      ]
     },
     "execution_count": 8,
     "metadata": {},
     "output_type": "execute_result"
    }
   ],
   "source": [
    "properatti[properatti[\"barrio\"].isna()].head(3)"
   ]
  },
  {
   "cell_type": "markdown",
   "metadata": {},
   "source": [
    "### Vemos que los faltantes son todos de Tigre, entonces los actualizamos directamente y comprobamos el resultado"
   ]
  },
  {
   "cell_type": "code",
   "execution_count": 9,
   "metadata": {},
   "outputs": [
    {
     "data": {
      "text/plain": [
       "id                     0\n",
       "tipo_oper              0\n",
       "Tipo_prop              0\n",
       "barrio                 0\n",
       "lugar_completo         0\n",
       "                   ...  \n",
       "pisos             113321\n",
       "ambientes          73830\n",
       "expensas          106958\n",
       "descripcion            2\n",
       "titulo                 0\n",
       "Length: 24, dtype: int64"
      ]
     },
     "execution_count": 9,
     "metadata": {},
     "output_type": "execute_result"
    }
   ],
   "source": [
    "properatti['barrio'].fillna('Tigre', inplace=True)\n",
    "properatti.isna().sum()"
   ]
  },
  {
   "cell_type": "markdown",
   "metadata": {},
   "source": [
    "### Analizamos el precio promedio por barrio, para usarlo luego en los registros donde falta el precio.\n",
    "\n",
    "####  falta agrupar por otras características, analizar si hay outliers, y en ese caso apartarlos"
   ]
  },
  {
   "cell_type": "code",
   "execution_count": 10,
   "metadata": {},
   "outputs": [
    {
     "data": {
      "text/plain": [
       "barrio\n",
       " Country Maschwitz Club    1303.311966\n",
       " los alamos                1990.243902\n",
       "9 de Abril                  539.772727\n",
       "Abasto                     2517.798880\n",
       "Abril Club de Campo        1960.679121\n",
       "Name: precio_x_m2, dtype: float64"
      ]
     },
     "execution_count": 10,
     "metadata": {},
     "output_type": "execute_result"
    }
   ],
   "source": [
    "\n",
    "properatti.groupby('barrio')['precio_x_m2'].mean().head(5)"
   ]
  },
  {
   "cell_type": "markdown",
   "metadata": {},
   "source": [
    "#### (¿convendría unificar precio, moneda, para dejar de usar los otros campos con la misma info?). Vemos que hay precios en diversas modedas"
   ]
  },
  {
   "cell_type": "code",
   "execution_count": 13,
   "metadata": {},
   "outputs": [
    {
     "ename": "NameError",
     "evalue": "name 'properatti_temp' is not defined",
     "output_type": "error",
     "traceback": [
      "\u001b[0;31m---------------------------------------------------------------------------\u001b[0m",
      "\u001b[0;31mNameError\u001b[0m                                 Traceback (most recent call last)",
      "\u001b[0;32m<ipython-input-13-600a037eff8c>\u001b[0m in \u001b[0;36m<module>\u001b[0;34m()\u001b[0m\n\u001b[0;32m----> 1\u001b[0;31m \u001b[0mproperatti_temp\u001b[0m\u001b[0;34m[\u001b[0m\u001b[0;34m'moneda'\u001b[0m\u001b[0;34m]\u001b[0m\u001b[0;34m.\u001b[0m\u001b[0munique\u001b[0m\u001b[0;34m(\u001b[0m\u001b[0;34m)\u001b[0m\u001b[0;34m\u001b[0m\u001b[0;34m\u001b[0m\u001b[0m\n\u001b[0m",
      "\u001b[0;31mNameError\u001b[0m: name 'properatti_temp' is not defined"
     ]
    }
   ],
   "source": [
    "properatti_temp['moneda'].unique()"
   ]
  },
  {
   "cell_type": "code",
   "execution_count": 12,
   "metadata": {},
   "outputs": [
    {
     "data": {
      "text/plain": [
       "moneda\n",
       "ARS    13219\n",
       "PEN        2\n",
       "USD    87587\n",
       "UYU        1\n",
       "Name: moneda, dtype: int64"
      ]
     },
     "execution_count": 12,
     "metadata": {},
     "output_type": "execute_result"
    }
   ],
   "source": [
    "properatti.groupby('moneda')['moneda'].count()"
   ]
  },
  {
   "cell_type": "markdown",
   "metadata": {},
   "source": [
    "### Creamos un nuevo dataframe con sólo las columnas necesarias para el análisis de las columnas de precios"
   ]
  },
  {
   "cell_type": "code",
   "execution_count": 13,
   "metadata": {},
   "outputs": [
    {
     "data": {
      "text/html": [
       "<div>\n",
       "<style scoped>\n",
       "    .dataframe tbody tr th:only-of-type {\n",
       "        vertical-align: middle;\n",
       "    }\n",
       "\n",
       "    .dataframe tbody tr th {\n",
       "        vertical-align: top;\n",
       "    }\n",
       "\n",
       "    .dataframe thead th {\n",
       "        text-align: right;\n",
       "    }\n",
       "</style>\n",
       "<table border=\"1\" class=\"dataframe\">\n",
       "  <thead>\n",
       "    <tr style=\"text-align: right;\">\n",
       "      <th></th>\n",
       "      <th>precio</th>\n",
       "      <th>moneda</th>\n",
       "      <th>precio_moneda_local</th>\n",
       "      <th>precio_dolares</th>\n",
       "      <th>superficie</th>\n",
       "      <th>superficie_cubierta</th>\n",
       "      <th>precio_x_m2_dolares</th>\n",
       "      <th>precio_x_m2</th>\n",
       "    </tr>\n",
       "  </thead>\n",
       "  <tbody>\n",
       "    <tr>\n",
       "      <th>0</th>\n",
       "      <td>False</td>\n",
       "      <td>False</td>\n",
       "      <td>False</td>\n",
       "      <td>False</td>\n",
       "      <td>False</td>\n",
       "      <td>False</td>\n",
       "      <td>False</td>\n",
       "      <td>False</td>\n",
       "    </tr>\n",
       "    <tr>\n",
       "      <th>1</th>\n",
       "      <td>False</td>\n",
       "      <td>False</td>\n",
       "      <td>False</td>\n",
       "      <td>False</td>\n",
       "      <td>True</td>\n",
       "      <td>True</td>\n",
       "      <td>True</td>\n",
       "      <td>True</td>\n",
       "    </tr>\n",
       "    <tr>\n",
       "      <th>2</th>\n",
       "      <td>False</td>\n",
       "      <td>False</td>\n",
       "      <td>False</td>\n",
       "      <td>False</td>\n",
       "      <td>False</td>\n",
       "      <td>False</td>\n",
       "      <td>False</td>\n",
       "      <td>False</td>\n",
       "    </tr>\n",
       "    <tr>\n",
       "      <th>3</th>\n",
       "      <td>False</td>\n",
       "      <td>False</td>\n",
       "      <td>False</td>\n",
       "      <td>False</td>\n",
       "      <td>True</td>\n",
       "      <td>True</td>\n",
       "      <td>True</td>\n",
       "      <td>True</td>\n",
       "    </tr>\n",
       "    <tr>\n",
       "      <th>4</th>\n",
       "      <td>False</td>\n",
       "      <td>False</td>\n",
       "      <td>False</td>\n",
       "      <td>False</td>\n",
       "      <td>False</td>\n",
       "      <td>False</td>\n",
       "      <td>False</td>\n",
       "      <td>False</td>\n",
       "    </tr>\n",
       "    <tr>\n",
       "      <th>...</th>\n",
       "      <td>...</td>\n",
       "      <td>...</td>\n",
       "      <td>...</td>\n",
       "      <td>...</td>\n",
       "      <td>...</td>\n",
       "      <td>...</td>\n",
       "      <td>...</td>\n",
       "      <td>...</td>\n",
       "    </tr>\n",
       "    <tr>\n",
       "      <th>121215</th>\n",
       "      <td>False</td>\n",
       "      <td>False</td>\n",
       "      <td>False</td>\n",
       "      <td>False</td>\n",
       "      <td>False</td>\n",
       "      <td>False</td>\n",
       "      <td>False</td>\n",
       "      <td>False</td>\n",
       "    </tr>\n",
       "    <tr>\n",
       "      <th>121216</th>\n",
       "      <td>False</td>\n",
       "      <td>False</td>\n",
       "      <td>False</td>\n",
       "      <td>False</td>\n",
       "      <td>False</td>\n",
       "      <td>False</td>\n",
       "      <td>False</td>\n",
       "      <td>False</td>\n",
       "    </tr>\n",
       "    <tr>\n",
       "      <th>121217</th>\n",
       "      <td>False</td>\n",
       "      <td>False</td>\n",
       "      <td>False</td>\n",
       "      <td>False</td>\n",
       "      <td>False</td>\n",
       "      <td>False</td>\n",
       "      <td>False</td>\n",
       "      <td>False</td>\n",
       "    </tr>\n",
       "    <tr>\n",
       "      <th>121218</th>\n",
       "      <td>False</td>\n",
       "      <td>False</td>\n",
       "      <td>False</td>\n",
       "      <td>False</td>\n",
       "      <td>False</td>\n",
       "      <td>False</td>\n",
       "      <td>False</td>\n",
       "      <td>False</td>\n",
       "    </tr>\n",
       "    <tr>\n",
       "      <th>121219</th>\n",
       "      <td>False</td>\n",
       "      <td>False</td>\n",
       "      <td>False</td>\n",
       "      <td>False</td>\n",
       "      <td>False</td>\n",
       "      <td>False</td>\n",
       "      <td>False</td>\n",
       "      <td>False</td>\n",
       "    </tr>\n",
       "  </tbody>\n",
       "</table>\n",
       "<p>121220 rows × 8 columns</p>\n",
       "</div>"
      ],
      "text/plain": [
       "        precio  moneda  precio_moneda_local  precio_dolares  superficie  \\\n",
       "0        False   False                False           False       False   \n",
       "1        False   False                False           False        True   \n",
       "2        False   False                False           False       False   \n",
       "3        False   False                False           False        True   \n",
       "4        False   False                False           False       False   \n",
       "...        ...     ...                  ...             ...         ...   \n",
       "121215   False   False                False           False       False   \n",
       "121216   False   False                False           False       False   \n",
       "121217   False   False                False           False       False   \n",
       "121218   False   False                False           False       False   \n",
       "121219   False   False                False           False       False   \n",
       "\n",
       "        superficie_cubierta  precio_x_m2_dolares  precio_x_m2  \n",
       "0                     False                False        False  \n",
       "1                      True                 True         True  \n",
       "2                     False                False        False  \n",
       "3                      True                 True         True  \n",
       "4                     False                False        False  \n",
       "...                     ...                  ...          ...  \n",
       "121215                False                False        False  \n",
       "121216                False                False        False  \n",
       "121217                False                False        False  \n",
       "121218                False                False        False  \n",
       "121219                False                False        False  \n",
       "\n",
       "[121220 rows x 8 columns]"
      ]
     },
     "execution_count": 13,
     "metadata": {},
     "output_type": "execute_result"
    }
   ],
   "source": [
    "properatti_temp = properatti[['precio', 'moneda', 'precio_moneda_local', 'precio_dolares','superficie', 'superficie_cubierta','precio_x_m2_dolares','precio_x_m2']]\n",
    "properatti_temp.isna()"
   ]
  },
  {
   "cell_type": "code",
   "execution_count": 14,
   "metadata": {},
   "outputs": [],
   "source": [
    "def completa_precios(dataf):\n",
    "    for indice_fila, fila in dataf.iterrows():\n",
    "        if (dataf.iloc[indice_fila,'precio_moneda_local']=='NaN') and (indice_fila < 100): #dataf['precio_x_m2'] is not NaN:\n",
    "            print(indice_fila)\n",
    "       "
   ]
  },
  {
   "cell_type": "code",
   "execution_count": 14,
   "metadata": {},
   "outputs": [
    {
     "ename": "NameError",
     "evalue": "name 'completa_precios' is not defined",
     "output_type": "error",
     "traceback": [
      "\u001b[0;31m---------------------------------------------------------------------------\u001b[0m",
      "\u001b[0;31mNameError\u001b[0m                                 Traceback (most recent call last)",
      "\u001b[0;32m<ipython-input-14-6e62ddd730ce>\u001b[0m in \u001b[0;36m<module>\u001b[0;34m()\u001b[0m\n\u001b[0;32m----> 1\u001b[0;31m \u001b[0mcompleta_precios\u001b[0m\u001b[0;34m(\u001b[0m\u001b[0mproperatti_temp\u001b[0m\u001b[0;34m)\u001b[0m\u001b[0;34m\u001b[0m\u001b[0;34m\u001b[0m\u001b[0m\n\u001b[0m",
      "\u001b[0;31mNameError\u001b[0m: name 'completa_precios' is not defined"
     ]
    }
   ],
   "source": [
    "completa_precios(properatti_temp)"
   ]
  },
  {
   "cell_type": "code",
   "execution_count": 15,
   "metadata": {},
   "outputs": [
    {
     "ename": "NameError",
     "evalue": "name 'properatti_temp' is not defined",
     "output_type": "error",
     "traceback": [
      "\u001b[0;31m---------------------------------------------------------------------------\u001b[0m",
      "\u001b[0;31mNameError\u001b[0m                                 Traceback (most recent call last)",
      "\u001b[0;32m<ipython-input-15-409f67cbce06>\u001b[0m in \u001b[0;36m<module>\u001b[0;34m()\u001b[0m\n\u001b[0;32m----> 1\u001b[0;31m \u001b[0mproperatti_temp\u001b[0m\u001b[0;34m.\u001b[0m\u001b[0miloc\u001b[0m\u001b[0;34m[\u001b[0m\u001b[0;36m4\u001b[0m\u001b[0;34m]\u001b[0m\u001b[0;34m[\u001b[0m\u001b[0;34m'precio_moneda_local'\u001b[0m\u001b[0;34m]\u001b[0m\u001b[0;34m==\u001b[0m\u001b[0;34m'NaN'\u001b[0m\u001b[0;34m\u001b[0m\u001b[0;34m\u001b[0m\u001b[0m\n\u001b[0m",
      "\u001b[0;31mNameError\u001b[0m: name 'properatti_temp' is not defined"
     ]
    }
   ],
   "source": [
    "properatti_temp.iloc[4]['precio_moneda_local']=='NaN'"
   ]
  },
  {
   "cell_type": "code",
   "execution_count": 16,
   "metadata": {},
   "outputs": [
    {
     "ename": "NameError",
     "evalue": "name 'properatti_temp' is not defined",
     "output_type": "error",
     "traceback": [
      "\u001b[0;31m---------------------------------------------------------------------------\u001b[0m",
      "\u001b[0;31mNameError\u001b[0m                                 Traceback (most recent call last)",
      "\u001b[0;32m<ipython-input-16-67bdd0f305e1>\u001b[0m in \u001b[0;36m<module>\u001b[0;34m()\u001b[0m\n\u001b[1;32m      1\u001b[0m \u001b[0mprecios\u001b[0m \u001b[0;34m=\u001b[0m \u001b[0;34m[\u001b[0m\u001b[0;34m'superficie_cubierta'\u001b[0m\u001b[0;34m,\u001b[0m\u001b[0;34m'precio_dolares'\u001b[0m\u001b[0;34m,\u001b[0m\u001b[0;34m'precio_x_m2_dolares'\u001b[0m\u001b[0;34m]\u001b[0m\u001b[0;34m\u001b[0m\u001b[0;34m\u001b[0m\u001b[0m\n\u001b[0;32m----> 2\u001b[0;31m \u001b[0mproperatti_temp\u001b[0m\u001b[0;34m[\u001b[0m\u001b[0mprecios\u001b[0m\u001b[0;34m]\u001b[0m\u001b[0;34m.\u001b[0m\u001b[0misna\u001b[0m\u001b[0;34m(\u001b[0m\u001b[0;34m)\u001b[0m\u001b[0;34m.\u001b[0m\u001b[0mhead\u001b[0m\u001b[0;34m(\u001b[0m\u001b[0;36m2\u001b[0m\u001b[0;34m)\u001b[0m\u001b[0;34m\u001b[0m\u001b[0;34m\u001b[0m\u001b[0m\n\u001b[0m",
      "\u001b[0;31mNameError\u001b[0m: name 'properatti_temp' is not defined"
     ]
    }
   ],
   "source": [
    "precios = ['superficie_cubierta','precio_dolares','precio_x_m2_dolares']\n",
    "properatti_temp[precios].isna().head(2)"
   ]
  },
  {
   "cell_type": "code",
   "execution_count": 17,
   "metadata": {},
   "outputs": [],
   "source": [
    "\n",
    "\n",
    "def from_x_y(df, x, y):\n",
    "    gdf = geopandas.GeoDataFrame(df.drop([x, y], axis=1),\n",
    "                                crs={'init': 'epsg:4326'},\n",
    "                                geometry=[Point(xy) for xy in zip(df[x], df[y])])\n",
    "    return gdf\n"
   ]
  },
  {
   "cell_type": "code",
   "execution_count": 18,
   "metadata": {},
   "outputs": [
    {
     "name": "stderr",
     "output_type": "stream",
     "text": [
      "/opt/conda/lib/python3.6/site-packages/pandas/core/frame.py:3697: SettingWithCopyWarning: \n",
      "A value is trying to be set on a copy of a slice from a DataFrame\n",
      "\n",
      "See the caveats in the documentation: http://pandas.pydata.org/pandas-docs/stable/indexing.html#indexing-view-versus-copy\n",
      "  errors=errors)\n"
     ]
    },
    {
     "data": {
      "text/html": [
       "<div>\n",
       "<style scoped>\n",
       "    .dataframe tbody tr th:only-of-type {\n",
       "        vertical-align: middle;\n",
       "    }\n",
       "\n",
       "    .dataframe tbody tr th {\n",
       "        vertical-align: top;\n",
       "    }\n",
       "\n",
       "    .dataframe thead th {\n",
       "        text-align: right;\n",
       "    }\n",
       "</style>\n",
       "<table border=\"1\" class=\"dataframe\">\n",
       "  <thead>\n",
       "    <tr style=\"text-align: right;\">\n",
       "      <th></th>\n",
       "      <th>id</th>\n",
       "      <th>tipo_oper</th>\n",
       "      <th>Tipo_prop</th>\n",
       "      <th>barrio</th>\n",
       "      <th>lugar_completo</th>\n",
       "      <th>pais</th>\n",
       "      <th>provincia</th>\n",
       "      <th>geonames_id</th>\n",
       "      <th>lat-lon</th>\n",
       "      <th>precio</th>\n",
       "      <th>...</th>\n",
       "      <th>superficie</th>\n",
       "      <th>superficie_cubierta</th>\n",
       "      <th>precio_x_m2_dolares</th>\n",
       "      <th>precio_x_m2</th>\n",
       "      <th>pisos</th>\n",
       "      <th>ambientes</th>\n",
       "      <th>expensas</th>\n",
       "      <th>descripcion</th>\n",
       "      <th>titulo</th>\n",
       "      <th>geometry</th>\n",
       "    </tr>\n",
       "  </thead>\n",
       "  <tbody>\n",
       "    <tr>\n",
       "      <th>120000</th>\n",
       "      <td>120000</td>\n",
       "      <td>sell</td>\n",
       "      <td>PH</td>\n",
       "      <td>San Martín</td>\n",
       "      <td>|Argentina|Bs.As. G.B.A. Zona Norte|General Sa...</td>\n",
       "      <td>Argentina</td>\n",
       "      <td>Bs.As. G.B.A. Zona Norte</td>\n",
       "      <td>NaN</td>\n",
       "      <td>-34.569199,-58.5323996</td>\n",
       "      <td>90000.0</td>\n",
       "      <td>...</td>\n",
       "      <td>NaN</td>\n",
       "      <td>NaN</td>\n",
       "      <td>NaN</td>\n",
       "      <td>NaN</td>\n",
       "      <td>NaN</td>\n",
       "      <td>NaN</td>\n",
       "      <td>NaN</td>\n",
       "      <td>CODIGO: 1642-MAIPU ubicado en: BERNARDI  -  Pu...</td>\n",
       "      <td>VENTA DE PH 3 AMB CON TERRAZA  EN VILLA MAIPU.</td>\n",
       "      <td>POINT (-58.53239960000001 -34.569199)</td>\n",
       "    </tr>\n",
       "    <tr>\n",
       "      <th>120001</th>\n",
       "      <td>120001</td>\n",
       "      <td>sell</td>\n",
       "      <td>house</td>\n",
       "      <td>Punilla</td>\n",
       "      <td>|Argentina|Córdoba|Punilla|</td>\n",
       "      <td>Argentina</td>\n",
       "      <td>Córdoba</td>\n",
       "      <td>3839996.0</td>\n",
       "      <td>-31.4217232,-64.5124379</td>\n",
       "      <td>1700000.0</td>\n",
       "      <td>...</td>\n",
       "      <td>487.0</td>\n",
       "      <td>118.0</td>\n",
       "      <td>195.774641</td>\n",
       "      <td>14406.779661</td>\n",
       "      <td>NaN</td>\n",
       "      <td>NaN</td>\n",
       "      <td>NaN</td>\n",
       "      <td>CODIGO: 2015-CCP207 ubicado en: La Quinta -  P...</td>\n",
       "      <td>CCP207- Casa de 3 dormitorios y gran terreno, ...</td>\n",
       "      <td>POINT (-64.51243789999999 -31.4217232)</td>\n",
       "    </tr>\n",
       "    <tr>\n",
       "      <th>120002</th>\n",
       "      <td>120002</td>\n",
       "      <td>sell</td>\n",
       "      <td>apartment</td>\n",
       "      <td>Punilla</td>\n",
       "      <td>|Argentina|Córdoba|Punilla|</td>\n",
       "      <td>Argentina</td>\n",
       "      <td>Córdoba</td>\n",
       "      <td>3839996.0</td>\n",
       "      <td>-31.415548,-64.5192216</td>\n",
       "      <td>1590000.0</td>\n",
       "      <td>...</td>\n",
       "      <td>NaN</td>\n",
       "      <td>NaN</td>\n",
       "      <td>NaN</td>\n",
       "      <td>NaN</td>\n",
       "      <td>NaN</td>\n",
       "      <td>NaN</td>\n",
       "      <td>NaN</td>\n",
       "      <td>CODIGO: 2015-EDF22 ubicado en: Centro -  Publi...</td>\n",
       "      <td>EDF22- Imperdible oportunidad de tener tu depa...</td>\n",
       "      <td>POINT (-64.51922159999999 -31.415548)</td>\n",
       "    </tr>\n",
       "    <tr>\n",
       "      <th>120003</th>\n",
       "      <td>120003</td>\n",
       "      <td>sell</td>\n",
       "      <td>PH</td>\n",
       "      <td>Liniers</td>\n",
       "      <td>|Argentina|Capital Federal|Liniers|</td>\n",
       "      <td>Argentina</td>\n",
       "      <td>Capital Federal</td>\n",
       "      <td>3431333.0</td>\n",
       "      <td>-34.6494797,-58.5264097</td>\n",
       "      <td>122000.0</td>\n",
       "      <td>...</td>\n",
       "      <td>NaN</td>\n",
       "      <td>NaN</td>\n",
       "      <td>NaN</td>\n",
       "      <td>NaN</td>\n",
       "      <td>NaN</td>\n",
       "      <td>NaN</td>\n",
       "      <td>NaN</td>\n",
       "      <td>CODIGO: 1019-V350 ubicado en: RODRIGUEZ ALVES ...</td>\n",
       "      <td>PH 2 AMBIENTES , CON PATIO , BALCON Y/O TERRAZ...</td>\n",
       "      <td>POINT (-58.52640970000001 -34.6494797)</td>\n",
       "    </tr>\n",
       "    <tr>\n",
       "      <th>120004</th>\n",
       "      <td>120004</td>\n",
       "      <td>sell</td>\n",
       "      <td>apartment</td>\n",
       "      <td>Punilla</td>\n",
       "      <td>|Argentina|Córdoba|Punilla|</td>\n",
       "      <td>Argentina</td>\n",
       "      <td>Córdoba</td>\n",
       "      <td>3839996.0</td>\n",
       "      <td>NaN</td>\n",
       "      <td>135000.0</td>\n",
       "      <td>...</td>\n",
       "      <td>65.0</td>\n",
       "      <td>NaN</td>\n",
       "      <td>2076.923077</td>\n",
       "      <td>NaN</td>\n",
       "      <td>NaN</td>\n",
       "      <td>NaN</td>\n",
       "      <td>NaN</td>\n",
       "      <td>CODIGO: 2015-DPT132 ubicado en: Jose Muñoz -  ...</td>\n",
       "      <td>DPT132- Imperdible departamento lotf ubicado a...</td>\n",
       "      <td>POINT (nan nan)</td>\n",
       "    </tr>\n",
       "    <tr>\n",
       "      <th>...</th>\n",
       "      <td>...</td>\n",
       "      <td>...</td>\n",
       "      <td>...</td>\n",
       "      <td>...</td>\n",
       "      <td>...</td>\n",
       "      <td>...</td>\n",
       "      <td>...</td>\n",
       "      <td>...</td>\n",
       "      <td>...</td>\n",
       "      <td>...</td>\n",
       "      <td>...</td>\n",
       "      <td>...</td>\n",
       "      <td>...</td>\n",
       "      <td>...</td>\n",
       "      <td>...</td>\n",
       "      <td>...</td>\n",
       "      <td>...</td>\n",
       "      <td>...</td>\n",
       "      <td>...</td>\n",
       "      <td>...</td>\n",
       "      <td>...</td>\n",
       "    </tr>\n",
       "    <tr>\n",
       "      <th>121215</th>\n",
       "      <td>121215</td>\n",
       "      <td>sell</td>\n",
       "      <td>apartment</td>\n",
       "      <td>Belgrano</td>\n",
       "      <td>|Argentina|Capital Federal|Belgrano|</td>\n",
       "      <td>Argentina</td>\n",
       "      <td>Capital Federal</td>\n",
       "      <td>3436077.0</td>\n",
       "      <td>NaN</td>\n",
       "      <td>870000.0</td>\n",
       "      <td>...</td>\n",
       "      <td>113.0</td>\n",
       "      <td>93.0</td>\n",
       "      <td>7699.115044</td>\n",
       "      <td>9354.838710</td>\n",
       "      <td>NaN</td>\n",
       "      <td>NaN</td>\n",
       "      <td>10000.0</td>\n",
       "      <td>TORRE FORUM ALCORTA - MÁXIMA CATEGORÍA.Impecab...</td>\n",
       "      <td>Torre Forum Alcorta- Impecable 3 ambientes</td>\n",
       "      <td>POINT (nan nan)</td>\n",
       "    </tr>\n",
       "    <tr>\n",
       "      <th>121216</th>\n",
       "      <td>121216</td>\n",
       "      <td>sell</td>\n",
       "      <td>house</td>\n",
       "      <td>Beccar</td>\n",
       "      <td>|Argentina|Bs.As. G.B.A. Zona Norte|San Isidro...</td>\n",
       "      <td>Argentina</td>\n",
       "      <td>Bs.As. G.B.A. Zona Norte</td>\n",
       "      <td>3436080.0</td>\n",
       "      <td>NaN</td>\n",
       "      <td>498000.0</td>\n",
       "      <td>...</td>\n",
       "      <td>360.0</td>\n",
       "      <td>360.0</td>\n",
       "      <td>1383.333333</td>\n",
       "      <td>1383.333333</td>\n",
       "      <td>NaN</td>\n",
       "      <td>NaN</td>\n",
       "      <td>NaN</td>\n",
       "      <td>Excelente e impecable casa en Venta en Las Lom...</td>\n",
       "      <td>Ruca Inmuebles | Venta | Lomas de San Isidro |...</td>\n",
       "      <td>POINT (nan nan)</td>\n",
       "    </tr>\n",
       "    <tr>\n",
       "      <th>121217</th>\n",
       "      <td>121217</td>\n",
       "      <td>sell</td>\n",
       "      <td>apartment</td>\n",
       "      <td>Villa Urquiza</td>\n",
       "      <td>|Argentina|Capital Federal|Villa Urquiza|</td>\n",
       "      <td>Argentina</td>\n",
       "      <td>Capital Federal</td>\n",
       "      <td>3433775.0</td>\n",
       "      <td>-34.5706388726,-58.4755963355</td>\n",
       "      <td>131500.0</td>\n",
       "      <td>...</td>\n",
       "      <td>46.0</td>\n",
       "      <td>39.0</td>\n",
       "      <td>2858.695652</td>\n",
       "      <td>3371.794872</td>\n",
       "      <td>NaN</td>\n",
       "      <td>NaN</td>\n",
       "      <td>NaN</td>\n",
       "      <td>VENTA DEPARTAMENTO AMBIENTE DIVISIBLE A ESTREN...</td>\n",
       "      <td>VENTA DEPARTAMENTO AMBIENTE DIVISIBLE A ESTREN...</td>\n",
       "      <td>POINT (-58.4755963355 -34.5706388726)</td>\n",
       "    </tr>\n",
       "    <tr>\n",
       "      <th>121218</th>\n",
       "      <td>121218</td>\n",
       "      <td>sell</td>\n",
       "      <td>apartment</td>\n",
       "      <td>Plaza Colón</td>\n",
       "      <td>|Argentina|Buenos Aires Costa Atlántica|Mar de...</td>\n",
       "      <td>Argentina</td>\n",
       "      <td>Buenos Aires Costa Atlántica</td>\n",
       "      <td>NaN</td>\n",
       "      <td>NaN</td>\n",
       "      <td>95900.0</td>\n",
       "      <td>...</td>\n",
       "      <td>48.0</td>\n",
       "      <td>48.0</td>\n",
       "      <td>1997.916667</td>\n",
       "      <td>1997.916667</td>\n",
       "      <td>NaN</td>\n",
       "      <td>NaN</td>\n",
       "      <td>NaN</td>\n",
       "      <td>2 Amb al contrafrente,  luminoso. El departame...</td>\n",
       "      <td>2 amb. C/ dep. de servicio al contrafrente| Re...</td>\n",
       "      <td>POINT (nan nan)</td>\n",
       "    </tr>\n",
       "    <tr>\n",
       "      <th>121219</th>\n",
       "      <td>121219</td>\n",
       "      <td>sell</td>\n",
       "      <td>apartment</td>\n",
       "      <td>Capital Federal</td>\n",
       "      <td>|Argentina|Capital Federal|</td>\n",
       "      <td>Argentina</td>\n",
       "      <td>Capital Federal</td>\n",
       "      <td>3433955.0</td>\n",
       "      <td>NaN</td>\n",
       "      <td>129000.0</td>\n",
       "      <td>...</td>\n",
       "      <td>77.0</td>\n",
       "      <td>77.0</td>\n",
       "      <td>1675.324675</td>\n",
       "      <td>1675.324675</td>\n",
       "      <td>NaN</td>\n",
       "      <td>NaN</td>\n",
       "      <td>3500.0</td>\n",
       "      <td>Departamento de 77 m2 apto profesional. Edific...</td>\n",
       "      <td>Departamento apto profesional en el Centro</td>\n",
       "      <td>POINT (nan nan)</td>\n",
       "    </tr>\n",
       "  </tbody>\n",
       "</table>\n",
       "<p>1220 rows × 23 columns</p>\n",
       "</div>"
      ],
      "text/plain": [
       "            id tipo_oper  Tipo_prop           barrio  \\\n",
       "120000  120000      sell         PH       San Martín   \n",
       "120001  120001      sell      house          Punilla   \n",
       "120002  120002      sell  apartment          Punilla   \n",
       "120003  120003      sell         PH          Liniers   \n",
       "120004  120004      sell  apartment          Punilla   \n",
       "...        ...       ...        ...              ...   \n",
       "121215  121215      sell  apartment         Belgrano   \n",
       "121216  121216      sell      house           Beccar   \n",
       "121217  121217      sell  apartment    Villa Urquiza   \n",
       "121218  121218      sell  apartment      Plaza Colón   \n",
       "121219  121219      sell  apartment  Capital Federal   \n",
       "\n",
       "                                           lugar_completo       pais  \\\n",
       "120000  |Argentina|Bs.As. G.B.A. Zona Norte|General Sa...  Argentina   \n",
       "120001                        |Argentina|Córdoba|Punilla|  Argentina   \n",
       "120002                        |Argentina|Córdoba|Punilla|  Argentina   \n",
       "120003                |Argentina|Capital Federal|Liniers|  Argentina   \n",
       "120004                        |Argentina|Córdoba|Punilla|  Argentina   \n",
       "...                                                   ...        ...   \n",
       "121215               |Argentina|Capital Federal|Belgrano|  Argentina   \n",
       "121216  |Argentina|Bs.As. G.B.A. Zona Norte|San Isidro...  Argentina   \n",
       "121217          |Argentina|Capital Federal|Villa Urquiza|  Argentina   \n",
       "121218  |Argentina|Buenos Aires Costa Atlántica|Mar de...  Argentina   \n",
       "121219                        |Argentina|Capital Federal|  Argentina   \n",
       "\n",
       "                           provincia  geonames_id  \\\n",
       "120000      Bs.As. G.B.A. Zona Norte          NaN   \n",
       "120001                       Córdoba    3839996.0   \n",
       "120002                       Córdoba    3839996.0   \n",
       "120003               Capital Federal    3431333.0   \n",
       "120004                       Córdoba    3839996.0   \n",
       "...                              ...          ...   \n",
       "121215               Capital Federal    3436077.0   \n",
       "121216      Bs.As. G.B.A. Zona Norte    3436080.0   \n",
       "121217               Capital Federal    3433775.0   \n",
       "121218  Buenos Aires Costa Atlántica          NaN   \n",
       "121219               Capital Federal    3433955.0   \n",
       "\n",
       "                              lat-lon     precio  \\\n",
       "120000         -34.569199,-58.5323996    90000.0   \n",
       "120001        -31.4217232,-64.5124379  1700000.0   \n",
       "120002         -31.415548,-64.5192216  1590000.0   \n",
       "120003        -34.6494797,-58.5264097   122000.0   \n",
       "120004                            NaN   135000.0   \n",
       "...                               ...        ...   \n",
       "121215                            NaN   870000.0   \n",
       "121216                            NaN   498000.0   \n",
       "121217  -34.5706388726,-58.4755963355   131500.0   \n",
       "121218                            NaN    95900.0   \n",
       "121219                            NaN   129000.0   \n",
       "\n",
       "                         ...                   superficie  \\\n",
       "120000                   ...                          NaN   \n",
       "120001                   ...                        487.0   \n",
       "120002                   ...                          NaN   \n",
       "120003                   ...                          NaN   \n",
       "120004                   ...                         65.0   \n",
       "...                      ...                          ...   \n",
       "121215                   ...                        113.0   \n",
       "121216                   ...                        360.0   \n",
       "121217                   ...                         46.0   \n",
       "121218                   ...                         48.0   \n",
       "121219                   ...                         77.0   \n",
       "\n",
       "        superficie_cubierta  precio_x_m2_dolares   precio_x_m2  pisos  \\\n",
       "120000                  NaN                  NaN           NaN    NaN   \n",
       "120001                118.0           195.774641  14406.779661    NaN   \n",
       "120002                  NaN                  NaN           NaN    NaN   \n",
       "120003                  NaN                  NaN           NaN    NaN   \n",
       "120004                  NaN          2076.923077           NaN    NaN   \n",
       "...                     ...                  ...           ...    ...   \n",
       "121215                 93.0          7699.115044   9354.838710    NaN   \n",
       "121216                360.0          1383.333333   1383.333333    NaN   \n",
       "121217                 39.0          2858.695652   3371.794872    NaN   \n",
       "121218                 48.0          1997.916667   1997.916667    NaN   \n",
       "121219                 77.0          1675.324675   1675.324675    NaN   \n",
       "\n",
       "        ambientes  expensas  \\\n",
       "120000        NaN       NaN   \n",
       "120001        NaN       NaN   \n",
       "120002        NaN       NaN   \n",
       "120003        NaN       NaN   \n",
       "120004        NaN       NaN   \n",
       "...           ...       ...   \n",
       "121215        NaN   10000.0   \n",
       "121216        NaN       NaN   \n",
       "121217        NaN       NaN   \n",
       "121218        NaN       NaN   \n",
       "121219        NaN    3500.0   \n",
       "\n",
       "                                              descripcion  \\\n",
       "120000  CODIGO: 1642-MAIPU ubicado en: BERNARDI  -  Pu...   \n",
       "120001  CODIGO: 2015-CCP207 ubicado en: La Quinta -  P...   \n",
       "120002  CODIGO: 2015-EDF22 ubicado en: Centro -  Publi...   \n",
       "120003  CODIGO: 1019-V350 ubicado en: RODRIGUEZ ALVES ...   \n",
       "120004  CODIGO: 2015-DPT132 ubicado en: Jose Muñoz -  ...   \n",
       "...                                                   ...   \n",
       "121215  TORRE FORUM ALCORTA - MÁXIMA CATEGORÍA.Impecab...   \n",
       "121216  Excelente e impecable casa en Venta en Las Lom...   \n",
       "121217  VENTA DEPARTAMENTO AMBIENTE DIVISIBLE A ESTREN...   \n",
       "121218  2 Amb al contrafrente,  luminoso. El departame...   \n",
       "121219  Departamento de 77 m2 apto profesional. Edific...   \n",
       "\n",
       "                                                   titulo  \\\n",
       "120000     VENTA DE PH 3 AMB CON TERRAZA  EN VILLA MAIPU.   \n",
       "120001  CCP207- Casa de 3 dormitorios y gran terreno, ...   \n",
       "120002  EDF22- Imperdible oportunidad de tener tu depa...   \n",
       "120003  PH 2 AMBIENTES , CON PATIO , BALCON Y/O TERRAZ...   \n",
       "120004  DPT132- Imperdible departamento lotf ubicado a...   \n",
       "...                                                   ...   \n",
       "121215         Torre Forum Alcorta- Impecable 3 ambientes   \n",
       "121216  Ruca Inmuebles | Venta | Lomas de San Isidro |...   \n",
       "121217  VENTA DEPARTAMENTO AMBIENTE DIVISIBLE A ESTREN...   \n",
       "121218  2 amb. C/ dep. de servicio al contrafrente| Re...   \n",
       "121219         Departamento apto profesional en el Centro   \n",
       "\n",
       "                                      geometry  \n",
       "120000   POINT (-58.53239960000001 -34.569199)  \n",
       "120001  POINT (-64.51243789999999 -31.4217232)  \n",
       "120002   POINT (-64.51922159999999 -31.415548)  \n",
       "120003  POINT (-58.52640970000001 -34.6494797)  \n",
       "120004                         POINT (nan nan)  \n",
       "...                                        ...  \n",
       "121215                         POINT (nan nan)  \n",
       "121216                         POINT (nan nan)  \n",
       "121217   POINT (-58.4755963355 -34.5706388726)  \n",
       "121218                         POINT (nan nan)  \n",
       "121219                         POINT (nan nan)  \n",
       "\n",
       "[1220 rows x 23 columns]"
      ]
     },
     "execution_count": 18,
     "metadata": {},
     "output_type": "execute_result"
    }
   ],
   "source": [
    "properatti_graf = properatti[0:len(properatti)]\n",
    "properatti_graf.drop(properatti_graf.index[0:120000],inplace=True)\n",
    "\n",
    "properatti_graf = from_x_y(properatti_graf, \"LNG\",\"LAT\")\n",
    "properatti_graf"
   ]
  },
  {
   "cell_type": "code",
   "execution_count": 19,
   "metadata": {},
   "outputs": [],
   "source": [
    "\n",
    "\n",
    "m = folium.Map([-34.606359, -58.443863], zoom_start=12, tiles=\"OpenStreetMap\")\n"
   ]
  },
  {
   "cell_type": "code",
   "execution_count": 20,
   "metadata": {},
   "outputs": [
    {
     "data": {
      "text/plain": [
       "<folium.features.GeoJson at 0x7f28d48ce0b8>"
      ]
     },
     "execution_count": 20,
     "metadata": {},
     "output_type": "execute_result"
    }
   ],
   "source": [
    "#m = folium.Map([-42.606359, -55.443863], zoom_start=4.2, tiles=\"OpenStreetMap\")\n",
    "m = folium.Map([-34.606359, -58.443863], zoom_start=12, tiles=\"OpenStreetMap\")\n",
    "folium.GeoJson(properatti_graf.to_json()).add_to(m)\n"
   ]
  },
  {
   "cell_type": "code",
   "execution_count": 21,
   "metadata": {},
   "outputs": [
    {
     "ename": "TypeError",
     "evalue": "'<=' not supported between instances of 'int' and 'str'",
     "output_type": "error",
     "traceback": [
      "\u001b[0;31m---------------------------------------------------------------------------\u001b[0m",
      "\u001b[0;31mTypeError\u001b[0m                                 Traceback (most recent call last)",
      "\u001b[0;32m<ipython-input-21-afdb67d58196>\u001b[0m in \u001b[0;36m<module>\u001b[0;34m()\u001b[0m\n\u001b[1;32m      3\u001b[0m \u001b[0;34m\u001b[0m\u001b[0m\n\u001b[1;32m      4\u001b[0m \u001b[0mplt\u001b[0m\u001b[0;34m.\u001b[0m\u001b[0mfigure\u001b[0m\u001b[0;34m(\u001b[0m\u001b[0mfigsize\u001b[0m\u001b[0;34m=\u001b[0m\u001b[0;34m(\u001b[0m\u001b[0;36m7\u001b[0m\u001b[0;34m,\u001b[0m \u001b[0;36m4\u001b[0m\u001b[0;34m)\u001b[0m\u001b[0;34m)\u001b[0m\u001b[0;34m\u001b[0m\u001b[0;34m\u001b[0m\u001b[0m\n\u001b[0;32m----> 5\u001b[0;31m \u001b[0mplt\u001b[0m\u001b[0;34m.\u001b[0m\u001b[0mhist\u001b[0m\u001b[0;34m(\u001b[0m\u001b[0my\u001b[0m\u001b[0;34m,\u001b[0m \u001b[0mlabel\u001b[0m\u001b[0;34m=\u001b[0m\u001b[0;34m[\u001b[0m\u001b[0;34m'1ro'\u001b[0m\u001b[0;34m,\u001b[0m \u001b[0;34m'2do'\u001b[0m\u001b[0;34m]\u001b[0m\u001b[0;34m,\u001b[0m \u001b[0mbins\u001b[0m\u001b[0;34m=\u001b[0m\u001b[0;36m25\u001b[0m\u001b[0;34m)\u001b[0m\u001b[0;34m\u001b[0m\u001b[0;34m\u001b[0m\u001b[0m\n\u001b[0m\u001b[1;32m      6\u001b[0m \u001b[0mplt\u001b[0m\u001b[0;34m.\u001b[0m\u001b[0mgrid\u001b[0m\u001b[0;34m(\u001b[0m\u001b[0;32mTrue\u001b[0m\u001b[0;34m)\u001b[0m\u001b[0;34m\u001b[0m\u001b[0;34m\u001b[0m\u001b[0m\n\u001b[1;32m      7\u001b[0m \u001b[0mplt\u001b[0m\u001b[0;34m.\u001b[0m\u001b[0mlegend\u001b[0m\u001b[0;34m(\u001b[0m\u001b[0mloc\u001b[0m\u001b[0;34m=\u001b[0m\u001b[0;36m0\u001b[0m\u001b[0;34m)\u001b[0m\u001b[0;34m\u001b[0m\u001b[0;34m\u001b[0m\u001b[0m\n",
      "\u001b[0;32m/opt/conda/lib/python3.6/site-packages/matplotlib/pyplot.py\u001b[0m in \u001b[0;36mhist\u001b[0;34m(x, bins, range, density, weights, cumulative, bottom, histtype, align, orientation, rwidth, log, color, label, stacked, normed, data, **kwargs)\u001b[0m\n\u001b[1;32m   2659\u001b[0m         \u001b[0malign\u001b[0m\u001b[0;34m=\u001b[0m\u001b[0malign\u001b[0m\u001b[0;34m,\u001b[0m \u001b[0morientation\u001b[0m\u001b[0;34m=\u001b[0m\u001b[0morientation\u001b[0m\u001b[0;34m,\u001b[0m \u001b[0mrwidth\u001b[0m\u001b[0;34m=\u001b[0m\u001b[0mrwidth\u001b[0m\u001b[0;34m,\u001b[0m \u001b[0mlog\u001b[0m\u001b[0;34m=\u001b[0m\u001b[0mlog\u001b[0m\u001b[0;34m,\u001b[0m\u001b[0;34m\u001b[0m\u001b[0;34m\u001b[0m\u001b[0m\n\u001b[1;32m   2660\u001b[0m         \u001b[0mcolor\u001b[0m\u001b[0;34m=\u001b[0m\u001b[0mcolor\u001b[0m\u001b[0;34m,\u001b[0m \u001b[0mlabel\u001b[0m\u001b[0;34m=\u001b[0m\u001b[0mlabel\u001b[0m\u001b[0;34m,\u001b[0m \u001b[0mstacked\u001b[0m\u001b[0;34m=\u001b[0m\u001b[0mstacked\u001b[0m\u001b[0;34m,\u001b[0m \u001b[0mnormed\u001b[0m\u001b[0;34m=\u001b[0m\u001b[0mnormed\u001b[0m\u001b[0;34m,\u001b[0m\u001b[0;34m\u001b[0m\u001b[0;34m\u001b[0m\u001b[0m\n\u001b[0;32m-> 2661\u001b[0;31m         **({\"data\": data} if data is not None else {}), **kwargs)\n\u001b[0m\u001b[1;32m   2662\u001b[0m \u001b[0;34m\u001b[0m\u001b[0m\n\u001b[1;32m   2663\u001b[0m \u001b[0;34m\u001b[0m\u001b[0m\n",
      "\u001b[0;32m/opt/conda/lib/python3.6/site-packages/matplotlib/__init__.py\u001b[0m in \u001b[0;36minner\u001b[0;34m(ax, data, *args, **kwargs)\u001b[0m\n\u001b[1;32m   1808\u001b[0m                         \u001b[0;34m\"the Matplotlib list!)\"\u001b[0m \u001b[0;34m%\u001b[0m \u001b[0;34m(\u001b[0m\u001b[0mlabel_namer\u001b[0m\u001b[0;34m,\u001b[0m \u001b[0mfunc\u001b[0m\u001b[0;34m.\u001b[0m\u001b[0m__name__\u001b[0m\u001b[0;34m)\u001b[0m\u001b[0;34m,\u001b[0m\u001b[0;34m\u001b[0m\u001b[0;34m\u001b[0m\u001b[0m\n\u001b[1;32m   1809\u001b[0m                         RuntimeWarning, stacklevel=2)\n\u001b[0;32m-> 1810\u001b[0;31m             \u001b[0;32mreturn\u001b[0m \u001b[0mfunc\u001b[0m\u001b[0;34m(\u001b[0m\u001b[0max\u001b[0m\u001b[0;34m,\u001b[0m \u001b[0;34m*\u001b[0m\u001b[0margs\u001b[0m\u001b[0;34m,\u001b[0m \u001b[0;34m**\u001b[0m\u001b[0mkwargs\u001b[0m\u001b[0;34m)\u001b[0m\u001b[0;34m\u001b[0m\u001b[0;34m\u001b[0m\u001b[0m\n\u001b[0m\u001b[1;32m   1811\u001b[0m \u001b[0;34m\u001b[0m\u001b[0m\n\u001b[1;32m   1812\u001b[0m         inner.__doc__ = _add_data_doc(inner.__doc__,\n",
      "\u001b[0;32m/opt/conda/lib/python3.6/site-packages/matplotlib/axes/_axes.py\u001b[0m in \u001b[0;36mhist\u001b[0;34m(self, x, bins, range, density, weights, cumulative, bottom, histtype, align, orientation, rwidth, log, color, label, stacked, normed, **kwargs)\u001b[0m\n\u001b[1;32m   6573\u001b[0m             \u001b[0;32mfor\u001b[0m \u001b[0mxi\u001b[0m \u001b[0;32min\u001b[0m \u001b[0mx\u001b[0m\u001b[0;34m:\u001b[0m\u001b[0;34m\u001b[0m\u001b[0;34m\u001b[0m\u001b[0m\n\u001b[1;32m   6574\u001b[0m                 \u001b[0;32mif\u001b[0m \u001b[0mlen\u001b[0m\u001b[0;34m(\u001b[0m\u001b[0mxi\u001b[0m\u001b[0;34m)\u001b[0m \u001b[0;34m>\u001b[0m \u001b[0;36m0\u001b[0m\u001b[0;34m:\u001b[0m\u001b[0;34m\u001b[0m\u001b[0;34m\u001b[0m\u001b[0m\n\u001b[0;32m-> 6575\u001b[0;31m                     \u001b[0mxmin\u001b[0m \u001b[0;34m=\u001b[0m \u001b[0mmin\u001b[0m\u001b[0;34m(\u001b[0m\u001b[0mxmin\u001b[0m\u001b[0;34m,\u001b[0m \u001b[0mnp\u001b[0m\u001b[0;34m.\u001b[0m\u001b[0mnanmin\u001b[0m\u001b[0;34m(\u001b[0m\u001b[0mxi\u001b[0m\u001b[0;34m)\u001b[0m\u001b[0;34m)\u001b[0m\u001b[0;34m\u001b[0m\u001b[0;34m\u001b[0m\u001b[0m\n\u001b[0m\u001b[1;32m   6576\u001b[0m                     \u001b[0mxmax\u001b[0m \u001b[0;34m=\u001b[0m \u001b[0mmax\u001b[0m\u001b[0;34m(\u001b[0m\u001b[0mxmax\u001b[0m\u001b[0;34m,\u001b[0m \u001b[0mnp\u001b[0m\u001b[0;34m.\u001b[0m\u001b[0mnanmax\u001b[0m\u001b[0;34m(\u001b[0m\u001b[0mxi\u001b[0m\u001b[0;34m)\u001b[0m\u001b[0;34m)\u001b[0m\u001b[0;34m\u001b[0m\u001b[0;34m\u001b[0m\u001b[0m\n\u001b[1;32m   6577\u001b[0m             \u001b[0mbin_range\u001b[0m \u001b[0;34m=\u001b[0m \u001b[0;34m(\u001b[0m\u001b[0mxmin\u001b[0m\u001b[0;34m,\u001b[0m \u001b[0mxmax\u001b[0m\u001b[0;34m)\u001b[0m\u001b[0;34m\u001b[0m\u001b[0;34m\u001b[0m\u001b[0m\n",
      "\u001b[0;32m/opt/conda/lib/python3.6/site-packages/numpy/lib/nanfunctions.py\u001b[0m in \u001b[0;36mnanmin\u001b[0;34m(a, axis, out, keepdims)\u001b[0m\n\u001b[1;32m    285\u001b[0m         \u001b[0;31m# Slow, but safe for subclasses of ndarray\u001b[0m\u001b[0;34m\u001b[0m\u001b[0;34m\u001b[0m\u001b[0;34m\u001b[0m\u001b[0m\n\u001b[1;32m    286\u001b[0m         \u001b[0ma\u001b[0m\u001b[0;34m,\u001b[0m \u001b[0mmask\u001b[0m \u001b[0;34m=\u001b[0m \u001b[0m_replace_nan\u001b[0m\u001b[0;34m(\u001b[0m\u001b[0ma\u001b[0m\u001b[0;34m,\u001b[0m \u001b[0;34m+\u001b[0m\u001b[0mnp\u001b[0m\u001b[0;34m.\u001b[0m\u001b[0minf\u001b[0m\u001b[0;34m)\u001b[0m\u001b[0;34m\u001b[0m\u001b[0;34m\u001b[0m\u001b[0m\n\u001b[0;32m--> 287\u001b[0;31m         \u001b[0mres\u001b[0m \u001b[0;34m=\u001b[0m \u001b[0mnp\u001b[0m\u001b[0;34m.\u001b[0m\u001b[0mamin\u001b[0m\u001b[0;34m(\u001b[0m\u001b[0ma\u001b[0m\u001b[0;34m,\u001b[0m \u001b[0maxis\u001b[0m\u001b[0;34m=\u001b[0m\u001b[0maxis\u001b[0m\u001b[0;34m,\u001b[0m \u001b[0mout\u001b[0m\u001b[0;34m=\u001b[0m\u001b[0mout\u001b[0m\u001b[0;34m,\u001b[0m \u001b[0;34m**\u001b[0m\u001b[0mkwargs\u001b[0m\u001b[0;34m)\u001b[0m\u001b[0;34m\u001b[0m\u001b[0;34m\u001b[0m\u001b[0m\n\u001b[0m\u001b[1;32m    288\u001b[0m         \u001b[0;32mif\u001b[0m \u001b[0mmask\u001b[0m \u001b[0;32mis\u001b[0m \u001b[0;32mNone\u001b[0m\u001b[0;34m:\u001b[0m\u001b[0;34m\u001b[0m\u001b[0;34m\u001b[0m\u001b[0m\n\u001b[1;32m    289\u001b[0m             \u001b[0;32mreturn\u001b[0m \u001b[0mres\u001b[0m\u001b[0;34m\u001b[0m\u001b[0;34m\u001b[0m\u001b[0m\n",
      "\u001b[0;32m/opt/conda/lib/python3.6/site-packages/numpy/core/fromnumeric.py\u001b[0m in \u001b[0;36mamin\u001b[0;34m(a, axis, out, keepdims, initial)\u001b[0m\n\u001b[1;32m   2440\u001b[0m     \"\"\"\n\u001b[1;32m   2441\u001b[0m     return _wrapreduction(a, np.minimum, 'min', axis, None, out, keepdims=keepdims,\n\u001b[0;32m-> 2442\u001b[0;31m                           initial=initial)\n\u001b[0m\u001b[1;32m   2443\u001b[0m \u001b[0;34m\u001b[0m\u001b[0m\n\u001b[1;32m   2444\u001b[0m \u001b[0;34m\u001b[0m\u001b[0m\n",
      "\u001b[0;32m/opt/conda/lib/python3.6/site-packages/numpy/core/fromnumeric.py\u001b[0m in \u001b[0;36m_wrapreduction\u001b[0;34m(obj, ufunc, method, axis, dtype, out, **kwargs)\u001b[0m\n\u001b[1;32m     81\u001b[0m                 \u001b[0;32mreturn\u001b[0m \u001b[0mreduction\u001b[0m\u001b[0;34m(\u001b[0m\u001b[0maxis\u001b[0m\u001b[0;34m=\u001b[0m\u001b[0maxis\u001b[0m\u001b[0;34m,\u001b[0m \u001b[0mout\u001b[0m\u001b[0;34m=\u001b[0m\u001b[0mout\u001b[0m\u001b[0;34m,\u001b[0m \u001b[0;34m**\u001b[0m\u001b[0mpasskwargs\u001b[0m\u001b[0;34m)\u001b[0m\u001b[0;34m\u001b[0m\u001b[0;34m\u001b[0m\u001b[0m\n\u001b[1;32m     82\u001b[0m \u001b[0;34m\u001b[0m\u001b[0m\n\u001b[0;32m---> 83\u001b[0;31m     \u001b[0;32mreturn\u001b[0m \u001b[0mufunc\u001b[0m\u001b[0;34m.\u001b[0m\u001b[0mreduce\u001b[0m\u001b[0;34m(\u001b[0m\u001b[0mobj\u001b[0m\u001b[0;34m,\u001b[0m \u001b[0maxis\u001b[0m\u001b[0;34m,\u001b[0m \u001b[0mdtype\u001b[0m\u001b[0;34m,\u001b[0m \u001b[0mout\u001b[0m\u001b[0;34m,\u001b[0m \u001b[0;34m**\u001b[0m\u001b[0mpasskwargs\u001b[0m\u001b[0;34m)\u001b[0m\u001b[0;34m\u001b[0m\u001b[0;34m\u001b[0m\u001b[0m\n\u001b[0m\u001b[1;32m     84\u001b[0m \u001b[0;34m\u001b[0m\u001b[0m\n\u001b[1;32m     85\u001b[0m \u001b[0;34m\u001b[0m\u001b[0m\n",
      "\u001b[0;31mTypeError\u001b[0m: '<=' not supported between instances of 'int' and 'str'"
     ]
    },
    {
     "data": {
      "image/png": "[encoded data removed]",
      "text/plain": [
       "<Figure size 504x288 with 1 Axes>"
      ]
     },
     "metadata": {},
     "output_type": "display_data"
    }
   ],
   "source": [
    "y = properatti_graf\n",
    "\n",
    "\n",
    "plt.figure(figsize=(7, 4))\n",
    "plt.hist(y, label=['1ro', '2do'], bins=25)\n",
    "plt.grid(True)\n",
    "plt.legend(loc=0)\n",
    "plt.xlabel('value')\n",
    "plt.ylabel('frequency')\n",
    "plt.title('Histograma');"
   ]
  },
  {
   "cell_type": "code",
   "execution_count": 23,
   "metadata": {},
   "outputs": [
    {
     "data": {
      "text/html": [
       "<div>\n",
       "<style scoped>\n",
       "    .dataframe tbody tr th:only-of-type {\n",
       "        vertical-align: middle;\n",
       "    }\n",
       "\n",
       "    .dataframe tbody tr th {\n",
       "        vertical-align: top;\n",
       "    }\n",
       "\n",
       "    .dataframe thead th {\n",
       "        text-align: right;\n",
       "    }\n",
       "</style>\n",
       "<table border=\"1\" class=\"dataframe\">\n",
       "  <thead>\n",
       "    <tr style=\"text-align: right;\">\n",
       "      <th></th>\n",
       "      <th>id</th>\n",
       "      <th>tipo_oper</th>\n",
       "      <th>Tipo_prop</th>\n",
       "      <th>barrio</th>\n",
       "      <th>lugar_completo</th>\n",
       "      <th>pais</th>\n",
       "      <th>provincia</th>\n",
       "      <th>geonames_id</th>\n",
       "      <th>lat-lon</th>\n",
       "      <th>precio</th>\n",
       "      <th>...</th>\n",
       "      <th>superficie</th>\n",
       "      <th>superficie_cubierta</th>\n",
       "      <th>precio_x_m2_dolares</th>\n",
       "      <th>precio_x_m2</th>\n",
       "      <th>pisos</th>\n",
       "      <th>ambientes</th>\n",
       "      <th>expensas</th>\n",
       "      <th>descripcion</th>\n",
       "      <th>titulo</th>\n",
       "      <th>geometry</th>\n",
       "    </tr>\n",
       "  </thead>\n",
       "  <tbody>\n",
       "    <tr>\n",
       "      <th>120000</th>\n",
       "      <td>120000</td>\n",
       "      <td>sell</td>\n",
       "      <td>PH</td>\n",
       "      <td>San Martín</td>\n",
       "      <td>|Argentina|Bs.As. G.B.A. Zona Norte|General Sa...</td>\n",
       "      <td>Argentina</td>\n",
       "      <td>Bs.As. G.B.A. Zona Norte</td>\n",
       "      <td>NaN</td>\n",
       "      <td>-34.569199,-58.5323996</td>\n",
       "      <td>90000.0</td>\n",
       "      <td>...</td>\n",
       "      <td>NaN</td>\n",
       "      <td>NaN</td>\n",
       "      <td>NaN</td>\n",
       "      <td>NaN</td>\n",
       "      <td>NaN</td>\n",
       "      <td>NaN</td>\n",
       "      <td>NaN</td>\n",
       "      <td>CODIGO: 1642-MAIPU ubicado en: BERNARDI  -  Pu...</td>\n",
       "      <td>VENTA DE PH 3 AMB CON TERRAZA  EN VILLA MAIPU.</td>\n",
       "      <td>POINT (-58.53239960000001 -34.569199)</td>\n",
       "    </tr>\n",
       "    <tr>\n",
       "      <th>120001</th>\n",
       "      <td>120001</td>\n",
       "      <td>sell</td>\n",
       "      <td>house</td>\n",
       "      <td>Punilla</td>\n",
       "      <td>|Argentina|Córdoba|Punilla|</td>\n",
       "      <td>Argentina</td>\n",
       "      <td>Córdoba</td>\n",
       "      <td>3839996.0</td>\n",
       "      <td>-31.4217232,-64.5124379</td>\n",
       "      <td>1700000.0</td>\n",
       "      <td>...</td>\n",
       "      <td>487.0</td>\n",
       "      <td>118.0</td>\n",
       "      <td>195.774641</td>\n",
       "      <td>14406.779661</td>\n",
       "      <td>NaN</td>\n",
       "      <td>NaN</td>\n",
       "      <td>NaN</td>\n",
       "      <td>CODIGO: 2015-CCP207 ubicado en: La Quinta -  P...</td>\n",
       "      <td>CCP207- Casa de 3 dormitorios y gran terreno, ...</td>\n",
       "      <td>POINT (-64.51243789999999 -31.4217232)</td>\n",
       "    </tr>\n",
       "  </tbody>\n",
       "</table>\n",
       "<p>2 rows × 23 columns</p>\n",
       "</div>"
      ],
      "text/plain": [
       "            id tipo_oper Tipo_prop      barrio  \\\n",
       "120000  120000      sell        PH  San Martín   \n",
       "120001  120001      sell     house     Punilla   \n",
       "\n",
       "                                           lugar_completo       pais  \\\n",
       "120000  |Argentina|Bs.As. G.B.A. Zona Norte|General Sa...  Argentina   \n",
       "120001                        |Argentina|Córdoba|Punilla|  Argentina   \n",
       "\n",
       "                       provincia  geonames_id                  lat-lon  \\\n",
       "120000  Bs.As. G.B.A. Zona Norte          NaN   -34.569199,-58.5323996   \n",
       "120001                   Córdoba    3839996.0  -31.4217232,-64.5124379   \n",
       "\n",
       "           precio                   ...                   superficie  \\\n",
       "120000    90000.0                   ...                          NaN   \n",
       "120001  1700000.0                   ...                        487.0   \n",
       "\n",
       "        superficie_cubierta  precio_x_m2_dolares   precio_x_m2  pisos  \\\n",
       "120000                  NaN                  NaN           NaN    NaN   \n",
       "120001                118.0           195.774641  14406.779661    NaN   \n",
       "\n",
       "        ambientes  expensas  \\\n",
       "120000        NaN       NaN   \n",
       "120001        NaN       NaN   \n",
       "\n",
       "                                              descripcion  \\\n",
       "120000  CODIGO: 1642-MAIPU ubicado en: BERNARDI  -  Pu...   \n",
       "120001  CODIGO: 2015-CCP207 ubicado en: La Quinta -  P...   \n",
       "\n",
       "                                                   titulo  \\\n",
       "120000     VENTA DE PH 3 AMB CON TERRAZA  EN VILLA MAIPU.   \n",
       "120001  CCP207- Casa de 3 dormitorios y gran terreno, ...   \n",
       "\n",
       "                                      geometry  \n",
       "120000   POINT (-58.53239960000001 -34.569199)  \n",
       "120001  POINT (-64.51243789999999 -31.4217232)  \n",
       "\n",
       "[2 rows x 23 columns]"
      ]
     },
     "execution_count": 23,
     "metadata": {},
     "output_type": "execute_result"
    }
   ],
   "source": [
    "y.head(2)"
   ]
  },
  {
   "cell_type": "code",
   "execution_count": 34,
   "metadata": {},
   "outputs": [
    {
     "data": {
      "text/plain": [
       "0    (1415.929, 1671.429]\n",
       "1                     NaN\n",
       "2    (1111.111, 1415.929]\n",
       "3                     NaN\n",
       "4    (1671.429, 1934.416]\n",
       "Name: precio_x_m2, dtype: category\n",
       "Categories (10, interval[float64]): [(1.5090000000000001, 1111.111] < (1111.111, 1415.929] < (1415.929, 1671.429] < (1671.429, 1934.416] ... (2560.0, 3021.633] < (3021.633, 3950.0] < (3950.0, 21111.111] < (21111.111, 3999999.96]]"
      ]
     },
     "execution_count": 34,
     "metadata": {},
     "output_type": "execute_result"
    }
   ],
   "source": [
    "#SACAR LOS OUTLIERS\n",
    "\n",
    "properatti.groupby('barrio')['precio_x_m2'].mean()\n",
    "prop_x_precio = pd.qcut(properatti['precio_x_m2'], 10) \n",
    "prop_x_precio.head(5)"
   ]
  },
  {
   "cell_type": "code",
   "execution_count": 25,
   "metadata": {},
   "outputs": [
    {
     "data": {
      "text/plain": [
       "0"
      ]
     },
     "execution_count": 25,
     "metadata": {},
     "output_type": "execute_result"
    }
   ],
   "source": [
    "properatti['lugar_completo'][0].find('|')"
   ]
  },
  {
   "cell_type": "code",
   "execution_count": 26,
   "metadata": {},
   "outputs": [
    {
     "data": {
      "text/plain": [
       "0         0\n",
       "1         0\n",
       "2         0\n",
       "3         0\n",
       "4         0\n",
       "         ..\n",
       "121215    0\n",
       "121216    0\n",
       "121217    0\n",
       "121218    0\n",
       "121219    0\n",
       "Name: lugar_completo, Length: 121220, dtype: int64"
      ]
     },
     "execution_count": 26,
     "metadata": {},
     "output_type": "execute_result"
    }
   ],
   "source": [
    "properatti['lugar_completo'].str.find('|')\n"
   ]
  },
  {
   "cell_type": "markdown",
   "metadata": {},
   "source": [
    "### Detectar y filtrar outliers\n",
    "No existe un criterio que sea válido en todos los casos para identificar los outliers. El criterio de mayor que el tercer cuartil más 1.5 veces el rango intercuartil o menor que el primer cuartil menos 1.5 veces el rango intercuartil surge de la distribución normal. En esa distribución el 99.7% de la población se encuentra en el rango definido por la media (poblacional) más menos 3 veces el desvío estándar (poblacional)"
   ]
  },
  {
   "cell_type": "code",
   "execution_count": null,
   "metadata": {},
   "outputs": [],
   "source": [
    "data.describe()"
   ]
  },
  {
   "cell_type": "code",
   "execution_count": null,
   "metadata": {},
   "outputs": [],
   "source": [
    "np.random.seed(12345)\n",
    "data = pd.DataFrame(np.random.randn(1000, 4))\n",
    "data.sample(5)"
   ]
  },
  {
   "cell_type": "code",
   "execution_count": null,
   "metadata": {},
   "outputs": [],
   "source": [
    "col = data[3]\n",
    "col[np.abs(col) > 3]\n",
    "#en este caso la media poblacional es 0 y el desvío es 1 entonces el criterio mencionado anteriormente \n",
    "# marcaría como outliers a los valores mayores que 3 o menores que -3\n",
    "#col[np.abs(col) > 3 * np.std(col)]"
   ]
  },
  {
   "cell_type": "code",
   "execution_count": null,
   "metadata": {},
   "outputs": [],
   "source": [
    "# Listamos aquellos que no son outliers\n",
    "data[~(np.abs(data) > 3).any(axis=1)].head()"
   ]
  },
  {
   "cell_type": "code",
   "execution_count": null,
   "metadata": {},
   "outputs": [],
   "source": [
    "len(data[~(np.abs(data) > 3).any(axis=1)])"
   ]
  },
  {
   "cell_type": "code",
   "execution_count": null,
   "metadata": {},
   "outputs": [],
   "source": [
    "# Listamos las filas que tienen eleementos que están en los extremos de la distribución\n",
    "data[(np.abs(data) > 3).any(1)]\n",
    "\n",
    "# data.apply(lambda col:col[np.abs(col) > 3 * np.std(col)])"
   ]
  },
  {
   "cell_type": "code",
   "execution_count": null,
   "metadata": {},
   "outputs": [],
   "source": [
    "# Acota el rango de la muestra\n",
    "# Convierte los valores extremos a esos puntos de referencia\n",
    " \n",
    "data[np.abs(data) > 3] = np.sign(data) * 3\n",
    "data.describe()"
   ]
  }
 ],
 "metadata": {
  "colab": {
   "default_view": {},
   "name": "1.Práctica_Guiada_1.ipynb",
   "provenance": [],
   "version": "0.3.2",
   "views": {}
  },
  "kernelspec": {
   "display_name": "Python 3",
   "language": "python",
   "name": "python3"
  },
  "language_info": {
   "codemirror_mode": {
    "name": "ipython",
    "version": 3
   },
   "file_extension": ".py",
   "mimetype": "text/x-python",
   "name": "python",
   "nbconvert_exporter": "python",
   "pygments_lexer": "ipython3",
   "version": "3.6.8"
  }
 },
 "nbformat": 4,
 "nbformat_minor": 1
}
